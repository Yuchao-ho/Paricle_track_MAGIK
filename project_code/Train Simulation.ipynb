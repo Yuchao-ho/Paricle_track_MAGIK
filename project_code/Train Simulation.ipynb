{
 "cells": [
  {
   "cell_type": "markdown",
   "metadata": {},
   "source": [
    "## Simulation of Hana particles"
   ]
  },
  {
   "cell_type": "code",
   "execution_count": 1,
   "metadata": {},
   "outputs": [],
   "source": [
    "import andi_datasets as andi\n",
    "import numpy as np\n",
    "import matplotlib.pyplot as plt\n",
    "from andi_datasets.models_phenom import models_phenom\n",
    "import pandas as pd"
   ]
  },
  {
   "cell_type": "code",
   "execution_count": 49,
   "metadata": {},
   "outputs": [
    {
     "name": "stdout",
     "output_type": "stream",
     "text": [
      "(3000, 4)\n",
      "[[ 3.73927426e+02  1.02008709e+03  9.19227597e-01 -7.70876618e-01]\n",
      " [ 3.49731793e+02  7.41765853e+02  4.50612267e-01  4.87629682e-01]\n",
      " [ 6.97331387e+01  9.31091642e+02  5.41402601e-01 -3.88345904e-01]\n",
      " ...\n",
      " [ 1.51319753e+02  1.95047841e+02  2.71422805e-01  1.28586082e-01]\n",
      " [ 6.21242040e+02  7.60178356e+02  9.60634288e-01  4.84410629e-01]\n",
      " [ 9.68214604e+02  1.01129010e+03  4.80837954e-01  6.63046627e-01]]\n"
     ]
    }
   ],
   "source": [
    "num_particle = 50\n",
    "num_frame = 60\n",
    "len_frame = 1.0 * 1034\n",
    "D = 0.1\n",
    "\n",
    "traj_simu ,_ = models_phenom().multi_state(\n",
    "        N = num_particle,\n",
    "        L = len_frame,\n",
    "        T = num_frame,\n",
    "        alphas =  [1.2, 0.7],\n",
    "        Ds = [[10*D, 0.1], [1.2*D, 0.0]],\n",
    "        M = [[0.98, 0.02], [0.02, 0.98]],\n",
    ")\n",
    "particle_feature_path= \"/home/user/Project_thesis/Particle_Hana/Cell7__ground_truth/particle_feature.csv\"\n",
    "particle_feature_df = pd.read_csv(particle_feature_path).to_numpy() \n",
    "stacked_array = np.vstack([np.hstack([np.transpose(traj_simu[i,:, j]) for i in range(traj_simu.shape[0])]) \n",
    "                                   for j in range(traj_simu.shape[-1])])\n",
    "centroids = np.transpose(stacked_array)\n",
    "        # add new features:\n",
    "other_features = np.zeros((centroids.shape[0], particle_feature_df.shape[1]-3))\n",
    "for idx in range(particle_feature_df.shape[1]-3):\n",
    "    if np.any(particle_feature_df[:, idx+3] < 0):\n",
    "                other_features[:, idx] = np.random.uniform(-1, 1, size=centroids.shape[0])\n",
    "    else:\n",
    "                other_features[:, idx] = np.random.uniform(0, 1, size=centroids.shape[0])\n",
    "x = np.hstack([centroids, other_features])\n",
    "#print(traj_simu[:,:,0]) # ,:,:,0 x ,:,:,1 y\n",
    "print(x.shape)\n",
    "print(x)\n"
   ]
  },
  {
   "cell_type": "markdown",
   "metadata": {},
   "source": [
    "## Train Simulation Traj:"
   ]
  },
  {
   "cell_type": "code",
   "execution_count": 1,
   "metadata": {},
   "outputs": [],
   "source": [
    "import torch_geometric\n",
    "from skimage import measure\n",
    "from concurrent.futures import ThreadPoolExecutor, as_completed\n",
    "import torch\n",
    "from torch_geometric.data import Data\n",
    "from tqdm import tqdm"
   ]
  },
  {
   "cell_type": "markdown",
   "metadata": {},
   "source": [
    "* Build Dataloader"
   ]
  },
  {
   "cell_type": "code",
   "execution_count": 2,
   "metadata": {},
   "outputs": [],
   "source": [
    "from torch.utils.data import Dataset\n",
    "\n",
    "class Tracing_Dataset(Dataset):\n",
    "    def __init__(self, graph, window_size, dataset_size, transform=None):\n",
    "        self.graph = graph\n",
    "\n",
    "        self.window_size = window_size # (1)\n",
    "        self.dataset_size = dataset_size\n",
    "\n",
    "        frames, edge_index = graph.frames, graph.edge_index\n",
    "        self.pair_frames = torch.stack(\n",
    "            [frames[edge_index[0, :]], frames[edge_index[1, :]]], axis=1\n",
    "        )\n",
    "        self.frames = frames\n",
    "        self.max_frame = frames.max()\n",
    "\n",
    "        self.transform = transform\n",
    "\n",
    "    def __len__(self):\n",
    "        return self.dataset_size\n",
    "\n",
    "    def __getitem__(self, idx):\n",
    "        frame_idx = np.random.randint(self.window_size, self.max_frame + 1) # (2)\n",
    "\n",
    "        start_frame = frame_idx - self.window_size\n",
    "        node_mask = (self.frames >= start_frame) & (self.frames < frame_idx) # (3)\n",
    "        x = self.graph.x[node_mask] # (4)\n",
    "\n",
    "        edge_mask = (self.pair_frames >= start_frame) & (self.pair_frames < frame_idx) # (5)\n",
    "        edge_mask = edge_mask.all(axis=1)\n",
    "\n",
    "        edge_index = self.graph.edge_index[:, edge_mask] # (6)  ## TODO\n",
    "        if edge_index.numel() > 0:\n",
    "            edge_index -= edge_index.min()  # Avoid error when edge_index is empty\n",
    "        \"\"\" else:\n",
    "            print(\"Warning: edge_index is empty for idx:\", idx)\n",
    "            return None  # or handle this case as needed\n",
    "        edge_index -= edge_index.min() \"\"\"\n",
    "\n",
    "        edge_attr = self.graph.edge_attr[edge_mask] # (7)\n",
    "\n",
    "        # sample ground truth edges\n",
    "        ground_truth_edges = self.graph.y[edge_mask] # (8)\n",
    "\n",
    "        graph = Data( # (9)\n",
    "            x=x,\n",
    "            edge_index=edge_index,\n",
    "            edge_attr=edge_attr,\n",
    "            distance=edge_attr,\n",
    "            y=ground_truth_edges,\n",
    "        )\n",
    "\n",
    "        if self.transform: # (10)\n",
    "            graph = self.transform(graph)\n",
    "\n",
    "        return graph"
   ]
  },
  {
   "cell_type": "code",
   "execution_count": 3,
   "metadata": {},
   "outputs": [],
   "source": [
    "import math\n",
    "\n",
    "class RandomRotation: # (1)\n",
    "    def __call__(self, graph):\n",
    "        graph = graph.clone()\n",
    "        centered_features = graph.x[:, :2] - 0.5\n",
    "\n",
    "        angle = np.random.rand() * 2 * math.pi\n",
    "        rotation_matrix = torch.tensor(\n",
    "            [\n",
    "                [math.cos(angle), -math.sin(angle)],\n",
    "                [math.sin(angle), math.cos(angle)],\n",
    "            ]\n",
    "        )\n",
    "        rotated_features = torch.matmul(centered_features, rotation_matrix)\n",
    "\n",
    "        graph.x[:, :2] = rotated_features + 0.5\n",
    "        return graph\n",
    "\n",
    "class RandomFlip: # (2)\n",
    "    def __call__(self, graph):\n",
    "        graph = graph.clone()\n",
    "        centered_features = graph.x[:, :2] - 0.5\n",
    "\n",
    "        if np.random.randint(2):\n",
    "            centered_features[:, 0] *= -1\n",
    "\n",
    "        if np.random.randint(2):\n",
    "            centered_features[:, 1] *= -1\n",
    "\n",
    "        graph.x[:, :2] = centered_features + 0.5\n",
    "        return graph"
   ]
  },
  {
   "cell_type": "code",
   "execution_count": 4,
   "metadata": {},
   "outputs": [],
   "source": [
    "from Build_graph import Graph_Generator\n",
    "\n",
    "graph_Generator = Graph_Generator(\n",
    "    connectivity_radius=0.02,num_particle_sim= 100, \n",
    "    len_frame_sim= 1034, num_frame_sim= 50, \n",
    "    D_sim= 0.1, num_del= 1\n",
    ")\n",
    "particle_feature_path= \"/home/user/Project_thesis/Particle_Hana/Cell7__ground_truth/particle_fea(new).csv\"\n",
    "train_graph = graph_Generator(particle_feature_path)"
   ]
  },
  {
   "cell_type": "code",
   "execution_count": 5,
   "metadata": {},
   "outputs": [
    {
     "name": "stderr",
     "output_type": "stream",
     "text": [
      "/home/user/miniconda3/envs/particle_hana/lib/python3.11/site-packages/torchvision/io/image.py:13: UserWarning: Failed to load image Python extension: '/home/user/miniconda3/envs/particle_hana/lib/python3.11/site-packages/torchvision/image.so: undefined symbol: _ZN3c1017RegisterOperatorsD1Ev'If you don't plan on using image functionality from `torchvision.io`, you can ignore this warning. Otherwise, there might be something wrong with your environment. Did you have `libjpeg` or `libpng` installed before building `torchvision` from source?\n",
      "  warn(\n"
     ]
    }
   ],
   "source": [
    "from torchvision import transforms\n",
    "from torch_geometric.loader import DataLoader\n",
    "\n",
    "train_dataset = Tracing_Dataset(\n",
    "    train_graph,\n",
    "    window_size=6,    ## could influence capacity for linking\n",
    "    dataset_size=512, \n",
    "    transform=transforms.Compose([RandomRotation(), RandomFlip()]),\n",
    ")\n",
    "\n",
    "train_loader = DataLoader(train_dataset, batch_size=40, shuffle=True)"
   ]
  },
  {
   "cell_type": "code",
   "execution_count": 6,
   "metadata": {},
   "outputs": [
    {
     "name": "stderr",
     "output_type": "stream",
     "text": [
      "/home/user/miniconda3/envs/particle_hana/lib/python3.11/site-packages/kornia/feature/lightglue.py:44: FutureWarning: `torch.cuda.amp.custom_fwd(args...)` is deprecated. Please use `torch.amp.custom_fwd(args..., device_type='cuda')` instead.\n",
      "  @torch.cuda.amp.custom_fwd(cast_inputs=torch.float32)\n",
      "/home/user/miniconda3/envs/particle_hana/lib/python3.11/site-packages/lightning/pytorch/trainer/configuration_validator.py:70: You defined a `validation_step` but have no `val_dataloader`. Skipping val loop.\n",
      "2024-10-08 15:32:08.228628: I tensorflow/core/util/port.cc:153] oneDNN custom operations are on. You may see slightly different numerical results due to floating-point round-off errors from different computation orders. To turn them off, set the environment variable `TF_ENABLE_ONEDNN_OPTS=0`.\n",
      "2024-10-08 15:32:08.321215: E external/local_xla/xla/stream_executor/cuda/cuda_fft.cc:485] Unable to register cuFFT factory: Attempting to register factory for plugin cuFFT when one has already been registered\n",
      "2024-10-08 15:32:08.383432: E external/local_xla/xla/stream_executor/cuda/cuda_dnn.cc:8454] Unable to register cuDNN factory: Attempting to register factory for plugin cuDNN when one has already been registered\n",
      "2024-10-08 15:32:08.401912: E external/local_xla/xla/stream_executor/cuda/cuda_blas.cc:1452] Unable to register cuBLAS factory: Attempting to register factory for plugin cuBLAS when one has already been registered\n",
      "2024-10-08 15:32:08.475353: I tensorflow/core/platform/cpu_feature_guard.cc:210] This TensorFlow binary is optimized to use available CPU instructions in performance-critical operations.\n",
      "To enable the following instructions: AVX2 AVX_VNNI FMA, in other operations, rebuild TensorFlow with the appropriate compiler flags.\n",
      "2024-10-08 15:32:09.329894: W tensorflow/compiler/tf2tensorrt/utils/py_utils.cc:38] TF-TRT Warning: Could not find TensorRT\n",
      "/home/user/miniconda3/envs/particle_hana/lib/python3.11/site-packages/lightning/pytorch/utilities/model_summary/model_summary.py:477: The total number of parameters detected may be inaccurate because the model contains an instance of `UninitializedParameter`. To get an accurate number, set `self.example_input_array` in your LightningModule.\n"
     ]
    },
    {
     "data": {
      "text/html": [
       "<pre style=\"white-space:pre;overflow-x:auto;line-height:normal;font-family:Menlo,'DejaVu Sans Mono',consolas,'Courier New',monospace\">┏━━━┳━━━━━━━━━━━━━━━┳━━━━━━━━━━━━━━━━━━┳━━━━━━━━┳━━━━━━━┓\n",
       "┃<span style=\"color: #800080; text-decoration-color: #800080; font-weight: bold\">   </span>┃<span style=\"color: #800080; text-decoration-color: #800080; font-weight: bold\"> Name          </span>┃<span style=\"color: #800080; text-decoration-color: #800080; font-weight: bold\"> Type             </span>┃<span style=\"color: #800080; text-decoration-color: #800080; font-weight: bold\"> Params </span>┃<span style=\"color: #800080; text-decoration-color: #800080; font-weight: bold\"> Mode  </span>┃\n",
       "┡━━━╇━━━━━━━━━━━━━━━╇━━━━━━━━━━━━━━━━━━╇━━━━━━━━╇━━━━━━━┩\n",
       "│<span style=\"color: #7f7f7f; text-decoration-color: #7f7f7f\"> 0 </span>│ loss          │ BCELoss          │      0 │ train │\n",
       "│<span style=\"color: #7f7f7f; text-decoration-color: #7f7f7f\"> 1 </span>│ train_metrics │ MetricCollection │      0 │ train │\n",
       "│<span style=\"color: #7f7f7f; text-decoration-color: #7f7f7f\"> 2 </span>│ val_metrics   │ MetricCollection │      0 │ train │\n",
       "│<span style=\"color: #7f7f7f; text-decoration-color: #7f7f7f\"> 3 </span>│ test_metrics  │ MetricCollection │      0 │ train │\n",
       "│<span style=\"color: #7f7f7f; text-decoration-color: #7f7f7f\"> 4 </span>│ model         │ Classifier_model │ 18.8 K │ train │\n",
       "│<span style=\"color: #7f7f7f; text-decoration-color: #7f7f7f\"> 5 </span>│ optimizer     │ Adam             │      0 │ train │\n",
       "└───┴───────────────┴──────────────────┴────────┴───────┘\n",
       "</pre>\n"
      ],
      "text/plain": [
       "┏━━━┳━━━━━━━━━━━━━━━┳━━━━━━━━━━━━━━━━━━┳━━━━━━━━┳━━━━━━━┓\n",
       "┃\u001b[1;35m \u001b[0m\u001b[1;35m \u001b[0m\u001b[1;35m \u001b[0m┃\u001b[1;35m \u001b[0m\u001b[1;35mName         \u001b[0m\u001b[1;35m \u001b[0m┃\u001b[1;35m \u001b[0m\u001b[1;35mType            \u001b[0m\u001b[1;35m \u001b[0m┃\u001b[1;35m \u001b[0m\u001b[1;35mParams\u001b[0m\u001b[1;35m \u001b[0m┃\u001b[1;35m \u001b[0m\u001b[1;35mMode \u001b[0m\u001b[1;35m \u001b[0m┃\n",
       "┡━━━╇━━━━━━━━━━━━━━━╇━━━━━━━━━━━━━━━━━━╇━━━━━━━━╇━━━━━━━┩\n",
       "│\u001b[2m \u001b[0m\u001b[2m0\u001b[0m\u001b[2m \u001b[0m│ loss          │ BCELoss          │      0 │ train │\n",
       "│\u001b[2m \u001b[0m\u001b[2m1\u001b[0m\u001b[2m \u001b[0m│ train_metrics │ MetricCollection │      0 │ train │\n",
       "│\u001b[2m \u001b[0m\u001b[2m2\u001b[0m\u001b[2m \u001b[0m│ val_metrics   │ MetricCollection │      0 │ train │\n",
       "│\u001b[2m \u001b[0m\u001b[2m3\u001b[0m\u001b[2m \u001b[0m│ test_metrics  │ MetricCollection │      0 │ train │\n",
       "│\u001b[2m \u001b[0m\u001b[2m4\u001b[0m\u001b[2m \u001b[0m│ model         │ Classifier_model │ 18.8 K │ train │\n",
       "│\u001b[2m \u001b[0m\u001b[2m5\u001b[0m\u001b[2m \u001b[0m│ optimizer     │ Adam             │      0 │ train │\n",
       "└───┴───────────────┴──────────────────┴────────┴───────┘\n"
      ]
     },
     "metadata": {},
     "output_type": "display_data"
    },
    {
     "data": {
      "text/html": [
       "<pre style=\"white-space:pre;overflow-x:auto;line-height:normal;font-family:Menlo,'DejaVu Sans Mono',consolas,'Courier New',monospace\"><span style=\"font-weight: bold\">Trainable params</span>: 18.8 K                                                                                           \n",
       "<span style=\"font-weight: bold\">Non-trainable params</span>: 0                                                                                            \n",
       "<span style=\"font-weight: bold\">Total params</span>: 18.8 K                                                                                               \n",
       "<span style=\"font-weight: bold\">Total estimated model params size (MB)</span>: 0                                                                          \n",
       "<span style=\"font-weight: bold\">Modules in train mode</span>: 84                                                                                          \n",
       "<span style=\"font-weight: bold\">Modules in eval mode</span>: 0                                                                                            \n",
       "</pre>\n"
      ],
      "text/plain": [
       "\u001b[1mTrainable params\u001b[0m: 18.8 K                                                                                           \n",
       "\u001b[1mNon-trainable params\u001b[0m: 0                                                                                            \n",
       "\u001b[1mTotal params\u001b[0m: 18.8 K                                                                                               \n",
       "\u001b[1mTotal estimated model params size (MB)\u001b[0m: 0                                                                          \n",
       "\u001b[1mModules in train mode\u001b[0m: 84                                                                                          \n",
       "\u001b[1mModules in eval mode\u001b[0m: 0                                                                                            \n"
      ]
     },
     "metadata": {},
     "output_type": "display_data"
    },
    {
     "data": {
      "application/vnd.jupyter.widget-view+json": {
       "model_id": "e84ef7779837435683e9a433af43f7aa",
       "version_major": 2,
       "version_minor": 0
      },
      "text/plain": [
       "Output()"
      ]
     },
     "metadata": {},
     "output_type": "display_data"
    },
    {
     "name": "stderr",
     "output_type": "stream",
     "text": [
      "/home/user/miniconda3/envs/particle_hana/lib/python3.11/site-packages/lightning/pytorch/trainer/connectors/data_connector.py:424: The 'train_dataloader' does not have many workers which may be a bottleneck. Consider increasing the value of the `num_workers` argument` to `num_workers=19` in the `DataLoader` to improve performance.\n",
      "/home/user/miniconda3/envs/particle_hana/lib/python3.11/site-packages/lightning/pytorch/loops/fit_loop.py:298: The number of training batches (13) is smaller than the logging interval Trainer(log_every_n_steps=50). Set a lower value for log_every_n_steps if you want to see logs for the training epoch.\n"
     ]
    },
    {
     "data": {
      "text/html": [
       "<pre style=\"white-space:pre;overflow-x:auto;line-height:normal;font-family:Menlo,'DejaVu Sans Mono',consolas,'Courier New',monospace\"></pre>\n"
      ],
      "text/plain": []
     },
     "metadata": {},
     "output_type": "display_data"
    }
   ],
   "source": [
    "from MAGIK_model import Classifier_model\n",
    "from deeplay import BinaryClassifier, Adam, Trainer\n",
    "import os\n",
    "import numpy as np\n",
    "\n",
    "new_model = Classifier_model()\n",
    "classifier = BinaryClassifier(model=new_model, optimizer=Adam(lr=1e-3))\n",
    "classifier = classifier.create()\n",
    "trainer = Trainer(max_epochs=20)\n",
    "trainer.fit(classifier, train_loader)\n",
    "checkpoint_pth = \"/home/user/Project_thesis/Particle_Hana/Cell7__ground_truth/model_(blink=1).pt\"\n",
    "if not os.path.exists(checkpoint_pth):\n",
    "  torch.save(classifier.model.state_dict(), checkpoint_pth)"
   ]
  },
  {
   "cell_type": "code",
   "execution_count": 4,
   "metadata": {},
   "outputs": [
    {
     "name": "stdout",
     "output_type": "stream",
     "text": [
      "[0 1 2 3 4 5]\n",
      "[1 0 2 3 4 5]\n"
     ]
    }
   ],
   "source": [
    "from scipy.optimize import linear_sum_assignment \n",
    "import numpy as np\n",
    "cost_mat = np.full((6,6), 2)\n",
    "for i in range(6):\n",
    "    cost_mat[i,i] = 6/(i+1)\n",
    "row, column = linear_sum_assignment(cost_mat)\n",
    "print(row)\n",
    "print(column)"
   ]
  },
  {
   "cell_type": "markdown",
   "metadata": {},
   "source": [
    "## Link Traj"
   ]
  },
  {
   "cell_type": "code",
   "execution_count": 1,
   "metadata": {},
   "outputs": [
    {
     "name": "stderr",
     "output_type": "stream",
     "text": [
      "/home/user/miniconda3/envs/particle_hana/lib/python3.11/site-packages/torchvision/io/image.py:13: UserWarning: Failed to load image Python extension: '/home/user/miniconda3/envs/particle_hana/lib/python3.11/site-packages/torchvision/image.so: undefined symbol: _ZN3c1017RegisterOperatorsD1Ev'If you don't plan on using image functionality from `torchvision.io`, you can ignore this warning. Otherwise, there might be something wrong with your environment. Did you have `libjpeg` or `libpng` installed before building `torchvision` from source?\n",
      "  warn(\n",
      "/home/user/miniconda3/envs/particle_hana/lib/python3.11/site-packages/kornia/feature/lightglue.py:44: FutureWarning: `torch.cuda.amp.custom_fwd(args...)` is deprecated. Please use `torch.amp.custom_fwd(args..., device_type='cuda')` instead.\n",
      "  @torch.cuda.amp.custom_fwd(cast_inputs=torch.float32)\n",
      "Test Video: 100%|██████████| 11/11 [01:10<00:00,  6.44s/it]\n",
      "Combine Graph: 100%|██████████| 10/10 [01:01<00:00,  6.18s/it]\n",
      "Prune Edges (Batched): 100%|██████████| 1162/1162 [01:32<00:00, 12.56it/s]\n",
      "Gen Coord: 100%|██████████| 9198/9198 [00:02<00:00, 3164.24it/s]\n"
     ]
    }
   ],
   "source": [
    "from Test_com_2 import process_traj\n",
    "\n",
    "combinator_traj = process_traj(\n",
    "    particle_csv_pth= \"/home/user/Project_thesis/Particle_Hana/Cell7__ground_truth/particle_fea(new).csv\",\n",
    "    len_sub= 60,\n",
    "    len_overlap= 5,\n",
    "    prob_thre= 0.55\n",
    ")\n",
    "\n",
    "trajectories = combinator_traj(\n",
    "    checkpt_pth= \"/home/user/Project_thesis/Particle_Hana/Cell7__ground_truth/model_(blink=3, win=6).pt\",\n",
    "    len_thre= 1\n",
    ")"
   ]
  },
  {
   "cell_type": "code",
   "execution_count": 3,
   "metadata": {},
   "outputs": [],
   "source": [
    "import cv2\n",
    "import numpy as np\n",
    "#import torch\n",
    "import pandas as pd\n",
    "from tqdm import tqdm\n",
    "import matplotlib.pyplot as plt\n",
    "\n",
    "video_path = \"/home/user/Project_thesis/Particle_Hana/Video/01_18_Cell7_PC3_cropped3_1_1000ms.avi\"\n",
    "image_list = []\n",
    "video = cv2.VideoCapture(video_path)\n",
    "while True:\n",
    "    ret, frame = video.read()\n",
    "    if not ret:\n",
    "        break\n",
    "    if frame.dtype != np.uint8:\n",
    "        frame = frame.astype(np.uint8)\n",
    "    gray_frame = cv2.cvtColor(frame, cv2.COLOR_BGR2GRAY)\n",
    "    image_list.append(np.array(gray_frame))\n",
    "video.release()\n",
    "cv2.destroyAllWindows()"
   ]
  },
  {
   "cell_type": "code",
   "execution_count": 11,
   "metadata": {},
   "outputs": [
    {
     "name": "stderr",
     "output_type": "stream",
     "text": [
      "Gen video: 100%|██████████| 180/180 [00:19<00:00,  9.23it/s]\n",
      "OpenCV: FFMPEG: tag 0x5634504d/'MP4V' is not supported with codec id 12 and format 'avi / AVI (Audio Video Interleaved)'\n",
      "OpenCV: FFMPEG: fallback to use tag 0x34504d46/'FMP4'\n"
     ]
    }
   ],
   "source": [
    "def gen_track_avi(frame_test, image_list, trajectories):\n",
    "    track_img_list = []\n",
    "    with tqdm(total=frame_test[1], desc=\"Gen video\") as pbar:\n",
    "      for frame_idx in range(frame_test[0], frame_test[1]):\n",
    "        fig, ax = plt.subplots(figsize=(10, 10))\n",
    "        img = np.copy(image_list[frame_idx])\n",
    "        pos_df = pd.read_csv(\"/home/user/Project_thesis/Particle_Hana/Cell7__ground_truth/particle_feature.csv\")\n",
    "        filtered_df = pos_df[(pos_df['frame'] == frame_idx)]\n",
    "        selected_columns = filtered_df[['centroid-0', 'centroid-1']].to_numpy()\n",
    "        for idx in range(selected_columns.shape[0]):\n",
    "          ax.scatter(selected_columns[idx, 0]*1314, selected_columns[idx, 1]*1054, marker='o', s=100, edgecolor='red', facecolor='none', linewidth=0.8, alpha=0.8)\n",
    "\n",
    "        ax.imshow(img, cmap=\"gray\")\n",
    "        \n",
    "        #device = torch.device(\"cuda\" if torch.cuda.is_available() else \"cpu\")\n",
    "        for frames, coordinates in trajectories:\n",
    "            if np.where(frames == frame_idx)[0].size > 0:\n",
    "                mask = frames <= frame_idx\n",
    "                coordinates_idx = coordinates[mask]\n",
    "                ax.plot(coordinates_idx[:, 0], coordinates_idx[:, 1], linewidth=1, color=\"blue\")\n",
    "            \n",
    "        #ax.set_axis_off()\n",
    "        fig.canvas.draw()\n",
    "        img = np.frombuffer(fig.canvas.buffer_rgba(), dtype=np.uint8)\n",
    "        img = img.reshape(fig.canvas.get_width_height()[::-1] + (4,))\n",
    "        img = img[:, :, :3] \n",
    "        track_img_list.append(img)\n",
    "        plt.close(fig)\n",
    "        pbar.update(1)\n",
    "    return track_img_list\n",
    "\n",
    "track_img_list = gen_track_avi(frame_test=(100,600), image_list=image_list, trajectories=trajectories)\n",
    "output_path = \"/home/user/Project_thesis/Particle_Hana/detection_whole(len_1).avi\"\n",
    "\n",
    "height, width, _ = track_img_list[0].shape\n",
    "fourcc = cv2.VideoWriter_fourcc(*'MP4V')\n",
    "video = cv2.VideoWriter(output_path, fourcc, 5, (width, height))\n",
    "for img in track_img_list:\n",
    "    video.write(cv2.cvtColor(img, cv2.COLOR_RGB2BGR))\n",
    "video.release() "
   ]
  },
  {
   "cell_type": "markdown",
   "metadata": {},
   "source": [
    "## Detection Check"
   ]
  },
  {
   "cell_type": "code",
   "execution_count": null,
   "metadata": {},
   "outputs": [],
   "source": [
    "\n",
    "def gen_track_avi(frame_test, image_list):\n",
    "    track_img_list = []\n",
    "    \n",
    "    # Define crop bounds\n",
    "    x_start, x_end = 600, 800\n",
    "    y_start, y_end = 200, 500\n",
    "    \n",
    "    \n",
    "    with tqdm(total=frame_test[1] - frame_test[0], desc=\"Gen video\") as pbar:\n",
    "        for frame_idx in range(frame_test[0], frame_test[1]):\n",
    "            fig, ax = plt.subplots(figsize=(10, 10))\n",
    "\n",
    "            # Load and crop the image\n",
    "            img = np.copy(image_list[frame_idx])[y_start:y_end, x_start:x_end]\n",
    "\n",
    "            # Load particle positions from CSV\n",
    "            pos_df = pd.read_csv(\"/home/user/Project_thesis/Particle_Hana/Cell7__ground_truth/particle_feature.csv\")\n",
    "            filtered_df = pos_df[pos_df['frame'] == frame_idx]\n",
    "            selected_columns = filtered_df[['centroid-0', 'centroid-1']].to_numpy()\n",
    "\n",
    "            # Plot particle centroids, adjusted for crop region\n",
    "            for idx in range(selected_columns.shape[0]):\n",
    "                x_coord = selected_columns[idx, 0] * 1314\n",
    "                y_coord = selected_columns[idx, 1] * 1054\n",
    "    \n",
    "                # Only plot if the point is within the cropped bounds\n",
    "                if x_start <= x_coord <= x_end and y_start <= y_coord <= y_end:\n",
    "                    # Adjust the coordinates relative to the cropped region\n",
    "                    adjusted_x = x_coord - x_start\n",
    "                    adjusted_y = y_coord - y_start\n",
    "                    ax.scatter(adjusted_x, adjusted_y, marker='o', s=100, edgecolor='red', facecolor='none', linewidth=0.8, alpha=0.8)\n",
    "            \n",
    "            #     \n",
    "            for frames, coordinates in trajectories:\n",
    "                if np.where(frames == frame_idx)[0].size > 0:\n",
    "                    mask = frames <= frame_idx\n",
    "                    coordinates_idx = coordinates[mask]\n",
    "                    ax.plot(coordinates_idx[:, 0], coordinates_idx[:, 1], linewidth=1, color=\"blue\")\n",
    "\n",
    "            # Finalize the plot and save the image to the list\n",
    "            fig.canvas.draw()\n",
    "            img = np.frombuffer(fig.canvas.buffer_rgba(), dtype=np.uint8)\n",
    "            img = img.reshape(fig.canvas.get_width_height()[::-1] + (4,))\n",
    "            img = img[:, :, :3]  # Drop the alpha channel\n",
    "            track_img_list.append(img)\n",
    "            plt.close(fig)\n",
    "            \n",
    "            pbar.update(1)\n",
    "    \n",
    "    return track_img_list\n",
    "\n",
    "# Generate track image list for the specified frame range\n",
    "track_img_list = gen_track_avi(frame_test=(220, 400), image_list=image_list)\n",
    "\n",
    "# Save the video\n",
    "output_path = \"/home/user/Project_thesis/Particle_Hana/detection_cropped_video.avi\"\n",
    "height, width, _ = track_img_list[0].shape\n",
    "fourcc = cv2.VideoWriter_fourcc(*'MP4V')\n",
    "video = cv2.VideoWriter(output_path, fourcc, 5, (width, height))\n",
    "\n",
    "for img in track_img_list:\n",
    "    video.write(cv2.cvtColor(img, cv2.COLOR_RGB2BGR))\n",
    "\n",
    "video.release()"
   ]
  },
  {
   "cell_type": "markdown",
   "metadata": {},
   "source": [
    "## Traj Check "
   ]
  },
  {
   "cell_type": "code",
   "execution_count": 4,
   "metadata": {},
   "outputs": [
    {
     "name": "stderr",
     "output_type": "stream",
     "text": [
      "Gen video: 100%|██████████| 200/200 [00:43<00:00,  4.57it/s]\n"
     ]
    }
   ],
   "source": [
    "import cv2\n",
    "import numpy as np\n",
    "#import torch\n",
    "import pandas as pd\n",
    "from tqdm import tqdm\n",
    "import matplotlib.pyplot as plt\n",
    "\n",
    "def gen_track_avi(frame_test, image_list, trajectories):\n",
    "    track_img_list = []\n",
    "    \n",
    "    # Define crop bounds\n",
    "    x_start, x_end = 600, 800\n",
    "    y_start, y_end = 200, 500\n",
    "    \n",
    "    with tqdm(total=frame_test[1] - frame_test[0], desc=\"Gen video\") as pbar:\n",
    "        for frame_idx in range(frame_test[0], frame_test[1]):\n",
    "            fig, ax = plt.subplots(figsize=(10, 10))\n",
    "\n",
    "            # Load and crop the image\n",
    "            img = np.copy(image_list[frame_idx])[y_start:y_end, x_start:x_end]\n",
    "\n",
    "            # Load particle positions from CSV\n",
    "            pos_df = pd.read_csv(\"/home/user/Project_thesis/Particle_Hana/Cell7__ground_truth/particle_fea(new).csv\")\n",
    "            filtered_df = pos_df[pos_df['frame'] == frame_idx]\n",
    "            selected_columns = filtered_df[['centroid-0', 'centroid-1']].to_numpy()\n",
    "\n",
    "            # Plot particle centroids, adjusted for crop region\n",
    "            for idx in range(selected_columns.shape[0]):\n",
    "                x_coord = selected_columns[idx, 0] * 1314\n",
    "                y_coord = selected_columns[idx, 1] * 1054\n",
    "                \n",
    "                # Only plot if the point is within the cropped bounds\n",
    "                if x_start <= x_coord <= x_end and y_start <= y_coord <= y_end:\n",
    "                    # Adjust the coordinates relative to the cropped region\n",
    "                    adjusted_x = x_coord - x_start\n",
    "                    adjusted_y = y_coord - y_start\n",
    "                    ax.scatter(adjusted_x, adjusted_y, marker='o', s=100, edgecolor='red', facecolor='none', linewidth=0.8, alpha=0.8)\n",
    "            \n",
    "            # Plot trajectories, adjusting for crop region\n",
    "            for frames, coordinates in trajectories:\n",
    "                #if np.where(frames == frame_idx)[0].size > 0:\n",
    "                    mask = frames <= frame_idx\n",
    "                    coordinates_idx = coordinates[mask]\n",
    "                    \n",
    "                    # Adjust trajectory coordinates for the cropped region\n",
    "                    adjusted_coords = []\n",
    "                    for coord in coordinates_idx:\n",
    "                        x, y = coord[0], coord[1] \n",
    "                        if x_start <= x <= x_end and y_start <= y <= y_end:\n",
    "                            adjusted_coords.append([x - x_start, y - y_start])\n",
    "                    \n",
    "                    if len(adjusted_coords) > 1:\n",
    "                        adjusted_coords = np.array(adjusted_coords)\n",
    "                        ax.plot(adjusted_coords[:, 0], adjusted_coords[:, 1], linewidth=1, color=\"blue\")\n",
    "\n",
    "            ax.imshow(img, cmap=\"gray\")\n",
    "            # Finalize the plot and save the image to the list\n",
    "            fig.canvas.draw()\n",
    "            img = np.frombuffer(fig.canvas.buffer_rgba(), dtype=np.uint8)\n",
    "            img = img.reshape(fig.canvas.get_width_height()[::-1] + (4,))\n",
    "            img = img[:, :, :3]  # Drop the alpha channel\n",
    "            track_img_list.append(img)\n",
    "            plt.close(fig)\n",
    "            \n",
    "            pbar.update(1)\n",
    "    \n",
    "    return track_img_list\n",
    "\n",
    "# Generate track image list for the specified frame range\n",
    "track_img_list = gen_track_avi(frame_test=(200, 400), image_list=image_list, trajectories=trajectories)\n",
    "\n",
    "# Save the video\n",
    "output_path = \"/home/user/Project_thesis/Particle_Hana/Video/traj_(blink=3).avi\"\n",
    "height, width, _ = track_img_list[0].shape\n",
    "fourcc = cv2.VideoWriter_fourcc(*'XVID')\n",
    "video = cv2.VideoWriter(output_path, fourcc, 4, (width, height))\n",
    "\n",
    "for img in track_img_list:\n",
    "    video.write(cv2.cvtColor(img, cv2.COLOR_RGB2BGR))\n",
    "\n",
    "video.release()\n"
   ]
  },
  {
   "cell_type": "code",
   "execution_count": 4,
   "metadata": {},
   "outputs": [
    {
     "name": "stderr",
     "output_type": "stream",
     "text": [
      "Gen video: 100%|██████████| 200/200 [01:07<00:00,  2.97it/s]\n"
     ]
    }
   ],
   "source": [
    "import cv2\n",
    "import numpy as np\n",
    "#import torch\n",
    "import pandas as pd\n",
    "from tqdm import tqdm\n",
    "import matplotlib.pyplot as plt\n",
    "\n",
    "def gen_track_avi(frame_test, image_list, trajectories):\n",
    "    track_img_list = []\n",
    "    \n",
    "    # Define crop bounds\n",
    "    x_start, x_end = 0, 300\n",
    "    y_start, y_end = 800, 1100\n",
    "    \n",
    "    with tqdm(total=frame_test[1] - frame_test[0], desc=\"Gen video\") as pbar:\n",
    "        for frame_idx in range(frame_test[0], frame_test[1]):\n",
    "            fig, ax = plt.subplots(figsize=(10, 10))\n",
    "\n",
    "            # Load and crop the image\n",
    "            img = np.copy(image_list[frame_idx])[y_start:y_end, x_start:x_end]\n",
    "\n",
    "            # Load particle positions from CSV\n",
    "            pos_df = pd.read_csv(\"/home/user/Project_thesis/Particle_Hana/Cell7__ground_truth/particle_fea(new).csv\")\n",
    "            filtered_df = pos_df[pos_df['frame'] == frame_idx]\n",
    "            selected_columns = filtered_df[['centroid-0', 'centroid-1']].to_numpy()\n",
    "\n",
    "            # Plot particle centroids, adjusted for crop region\n",
    "            for idx in range(selected_columns.shape[0]):\n",
    "                x_coord = selected_columns[idx, 0] * 1314\n",
    "                y_coord = selected_columns[idx, 1] * 1054\n",
    "                \n",
    "                # Only plot if the point is within the cropped bounds\n",
    "                if x_start <= x_coord <= x_end and y_start <= y_coord <= y_end:\n",
    "                    # Adjust the coordinates relative to the cropped region\n",
    "                    adjusted_x = x_coord - x_start\n",
    "                    adjusted_y = y_coord - y_start\n",
    "                    ax.scatter(adjusted_x, adjusted_y, marker='o', s=100, edgecolor='red', facecolor='none', linewidth=0.8, alpha=0.8)\n",
    "            \n",
    "            # Plot trajectories, adjusting for crop region\n",
    "            for frames, coordinates in trajectories:\n",
    "                #if np.where(frames == frame_idx)[0].size > 0:\n",
    "                    mask = frames <= frame_idx\n",
    "                    coordinates_idx = coordinates[mask]\n",
    "                    \n",
    "                    # Adjust trajectory coordinates for the cropped region\n",
    "                    adjusted_coords = []\n",
    "                    for coord in coordinates_idx:\n",
    "                        x, y = coord[0], coord[1] \n",
    "                        if x_start <= x <= x_end and y_start <= y <= y_end:\n",
    "                            adjusted_coords.append([x - x_start, y - y_start])\n",
    "                    \n",
    "                    if len(adjusted_coords) > 1:\n",
    "                        adjusted_coords = np.array(adjusted_coords)\n",
    "                        ax.plot(adjusted_coords[:, 0], adjusted_coords[:, 1], linewidth=1, color=\"blue\")\n",
    "\n",
    "            ax.imshow(img, cmap=\"gray\")\n",
    "            # Finalize the plot and save the image to the list\n",
    "            fig.canvas.draw()\n",
    "            img = np.frombuffer(fig.canvas.buffer_rgba(), dtype=np.uint8)\n",
    "            img = img.reshape(fig.canvas.get_width_height()[::-1] + (4,))\n",
    "            img = img[:, :, :3]  # Drop the alpha channel\n",
    "            track_img_list.append(img)\n",
    "            plt.close(fig)\n",
    "            \n",
    "            pbar.update(1)\n",
    "    \n",
    "    return track_img_list\n",
    "\n",
    "# Generate track image list for the specified frame range\n",
    "track_img_list = gen_track_avi(frame_test=(200, 400), image_list=image_list, trajectories=trajectories)\n",
    "\n",
    "# Save the video\n",
    "output_path = \"/home/user/Project_thesis/Particle_Hana/Video/traj_cropped(blink_6)(1).avi\"\n",
    "height, width, _ = track_img_list[0].shape\n",
    "fourcc = cv2.VideoWriter_fourcc(*'XVID')\n",
    "video = cv2.VideoWriter(output_path, fourcc, 4, (width, height))\n",
    "\n",
    "for img in track_img_list:\n",
    "    video.write(cv2.cvtColor(img, cv2.COLOR_RGB2BGR))\n",
    "\n",
    "video.release()\n"
   ]
  },
  {
   "cell_type": "markdown",
   "metadata": {},
   "source": [
    "## Traj Quality Eva:"
   ]
  },
  {
   "cell_type": "code",
   "execution_count": null,
   "metadata": {},
   "outputs": [
    {
     "name": "stdout",
     "output_type": "stream",
     "text": [
      "[[1 2 3]\n",
      " [2 5 7]]\n"
     ]
    }
   ],
   "source": [
    "import numpy as np\n",
    "ll = np.vstack([[1,2,3], [2,5,7]])\n",
    "print(ll)"
   ]
  },
  {
   "cell_type": "code",
   "execution_count": 6,
   "metadata": {},
   "outputs": [
    {
     "data": {
      "image/png": "[encoded data removed]",
      "text/plain": [
       "<Figure size 640x480 with 1 Axes>"
      ]
     },
     "metadata": {},
     "output_type": "display_data"
    }
   ],
   "source": [
    "import numpy as np\n",
    "import matplotlib.pyplot as plt\n",
    "\n",
    "frame_diff = []\n",
    "for frames, coordinates in trajectories:\n",
    "    if (frames[-1]-frames[0]) >= 10:\n",
    "        frame_diff.append(frames[-1]-frames[0])\n",
    "    \n",
    "hist, bins = np.histogram(frame_diff, bins=10)  # Adjust number of bins as needed\n",
    "plt.hist(frame_diff, bins=bins, alpha=0.5)\n",
    "plt.xlabel(\"Len of Tracking\")\n",
    "plt.ylabel(\"Frequency\")\n",
    "plt.title(\"Len of Tracking (Overlap=1)\")\n",
    "plt.show()"
   ]
  },
  {
   "cell_type": "code",
   "execution_count": 10,
   "metadata": {},
   "outputs": [
    {
     "data": {
      "image/png": "[encoded data removed]",
      "text/plain": [
       "<Figure size 640x480 with 1 Axes>"
      ]
     },
     "metadata": {},
     "output_type": "display_data"
    }
   ],
   "source": [
    "import numpy as np\n",
    "import matplotlib.pyplot as plt\n",
    "\n",
    "frame_diff = []\n",
    "for frames, coordinates in trajectories:\n",
    "    if (frames[-1]-frames[0]) >= 10:\n",
    "        frame_diff.append(frames[-1]-frames[0])\n",
    "    \n",
    "hist, bins = np.histogram(frame_diff, bins=10)  # Adjust number of bins as needed\n",
    "plt.hist(frame_diff, bins=bins, alpha=0.5)\n",
    "plt.xlabel(\"Len of Tracking\")\n",
    "plt.ylabel(\"Frequency\")\n",
    "plt.title(\"Len of Tracking (Overlap=5)\")\n",
    "plt.show()"
   ]
  },
  {
   "cell_type": "markdown",
   "metadata": {},
   "source": [
    "## MSD"
   ]
  },
  {
   "cell_type": "code",
   "execution_count": 1,
   "metadata": {},
   "outputs": [],
   "source": [
    "import numpy as np\n",
    "import math\n",
    "\n",
    "def compute_msd_with_inconsistent_frames(trajectories):\n",
    "    msds = []\n",
    "    num_frames = max([max(frames) for frames,_ in trajectories])\n",
    "    # Loop over each trajectory\n",
    "    for frames, coordinates in trajectories:\n",
    "        num_frames = len(frames)\n",
    "        displacements = []\n",
    "\n",
    "        # Loop over each possible lag time\n",
    "        for tau in range(1, num_frames):\n",
    "            squared_displacements = []\n",
    "            \n",
    "            # Loop over all pairs of frames with the correct time difference (tau)\n",
    "            for i in range(num_frames):\n",
    "                for j in range(i + 1, num_frames):\n",
    "                    frame_diff = frames[j] - frames[i]  # Difference in frame numbers\n",
    "                    if frame_diff == tau:\n",
    "                        x1,y1 = coordinates[j]\n",
    "                        x2, y2 = coordinates[i]\n",
    "                        squared_displacement = math.sqrt((x2 - x1) ** 2 + (y2 - y1) ** 2)  # Sum of squares of displacements\n",
    "                        squared_displacements.append(squared_displacement)\n",
    "            \n",
    "            # Only compute MSD if there are valid displacements for this tau\n",
    "            if squared_displacements:\n",
    "                mean_squared_displacement = np.mean(squared_displacements)\n",
    "                displacements.append(mean_squared_displacement)\n",
    "            else:\n",
    "                # No valid displacements for this tau, so append NaN or skip\n",
    "                displacements.append(np.nan)\n",
    "        \n",
    "        # Store the MSDs for this trajectory\n",
    "        msds.append(displacements)\n",
    "    \n",
    "    return msds\n",
    "\n",
    "#msd_results = compute_msd_with_inconsistent_frames(trajectories)"
   ]
  },
  {
   "cell_type": "code",
   "execution_count": 3,
   "metadata": {},
   "outputs": [
    {
     "data": {
      "image/png": "[encoded data removed]",
      "text/plain": [
       "<Figure size 800x600 with 1 Axes>"
      ]
     },
     "metadata": {},
     "output_type": "display_data"
    }
   ],
   "source": [
    "import numpy as np\n",
    "from sklearn.decomposition import PCA\n",
    "from sklearn.preprocessing import StandardScaler\n",
    "from sklearn.svm import SVC\n",
    "from sklearn.model_selection import train_test_split\n",
    "from sklearn.metrics import accuracy_score\n",
    "import matplotlib.pyplot as plt\n",
    "\n",
    "# Example: Randomly generated 2D trajectories with 100 time steps\n",
    "n_trajectories = 100\n",
    "time_steps = 100\n",
    "data = np.random.rand(n_trajectories, time_steps, 2)  # 100 trajectories of 2D points\n",
    "\n",
    "# Flatten each trajectory\n",
    "flattened_data = data.reshape(n_trajectories, time_steps * 2)\n",
    "\n",
    "# Standardize the data\n",
    "scaler = StandardScaler()\n",
    "flattened_data_std = scaler.fit_transform(flattened_data)\n",
    "\n",
    "# Apply PCA\n",
    "pca = PCA(n_components=10)  # Retain 10 principal components\n",
    "principal_components = pca.fit_transform(flattened_data_std)\n",
    "pc1 = principal_components[:, 0]\n",
    "pc2 = principal_components[:, 1]\n",
    "\n",
    "# Plot PC1 against PC2\n",
    "plt.figure(figsize=(8, 6))\n",
    "plt.scatter(pc1, pc2, c='blue', marker='o', edgecolor='k', s=50)\n",
    "plt.title('PC1 vs PC2')\n",
    "plt.xlabel('Principal Component 1')\n",
    "plt.ylabel('Principal Component 2')\n",
    "plt.grid(True)\n",
    "plt.show()"
   ]
  },
  {
   "cell_type": "code",
   "execution_count": 3,
   "metadata": {},
   "outputs": [
    {
     "name": "stdout",
     "output_type": "stream",
     "text": [
      "2\n",
      "[0.   0.25 0.5  0.75 1.   0.   0.25 0.5  0.75 1.   0.   0.25 0.5  0.75\n",
      " 1.   0.   0.25 0.5  0.75 1.   0.   0.25 0.5  0.75 1.   0.   0.25 0.5\n",
      " 0.75 1.  ]\n",
      "[2, 3, 3, 1, 4, 1]\n",
      "[2, 8, 13, 16, 24, 26]\n",
      "[0.   0.25 0.75 1.   0.   0.25 0.5  1.   0.   0.25 0.5  1.   0.   0.5\n",
      " 0.75 1.   0.   0.25 0.5  0.75 0.   0.5  0.75 1.  ]\n"
     ]
    }
   ],
   "source": [
    "from andi_datasets.models_phenom import models_phenom\n",
    "import random\n",
    "import numpy as np\n",
    "traj_simu,_ = models_phenom().multi_state(\n",
    "            N = 5,\n",
    "            L = 20,\n",
    "            T = 6,\n",
    "            alphas =  [1.2, 0.7],\n",
    "            Ds = [[10*0.1, 0.1], [1.2*0.1, 0.0]],\n",
    "            M = [[0.98, 0.02], [0.02, 0.98]],\n",
    "        )\n",
    "print(traj_simu.shape[-1])\n",
    "stacked_array = np.vstack([np.hstack([np.transpose(traj_simu[i,:, j]) for i in range(traj_simu.shape[0])]) \n",
    "                            for j in range(traj_simu.shape[-1])])\n",
    "centroids = np.transpose(stacked_array) \n",
    "#print(centroids)\n",
    "node_index_labels = np.hstack([np.arange(traj_simu.shape[1]) for idx in range(traj_simu.shape[0])]).astype(float)\n",
    "node_index_labels /= 4.0\n",
    "print(node_index_labels)\n",
    "#print(centroids)\n",
    "pool = []\n",
    "for i in range(5):\n",
    "    pool.extend([i] * min(2, 6 // 5 + 1))\n",
    "\n",
    "# Randomly shuffle the pool and return the first N elements\n",
    "random.shuffle(pool)\n",
    "idx =  pool[:6]\n",
    "print(idx)\n",
    "del_idx = [index+5*i for i,index in enumerate(idx)]\n",
    "print(del_idx)\n",
    "node_index_labels_up = np.delete(node_index_labels, del_idx, axis=0)\n",
    "print(node_index_labels_up)"
   ]
  },
  {
   "cell_type": "code",
   "execution_count": 7,
   "metadata": {},
   "outputs": [
    {
     "name": "stdout",
     "output_type": "stream",
     "text": [
      "[14, 13, 13, 1, 15, 8, 1, 0, 6, 10, 14, 7, 4, 4, 9, 12, 17, 3, 19, 12, 15, 2, 7, 16, 11, 17, 6, 9, 0, 11, 18, 5, 8, 18, 19, 10, 5, 16, 2, 3]\n",
      "[14, 33, 53, 1, 35, 48, 1, 20, 46, 10, 34, 47, 4, 24, 49, 12, 37, 43, 19, 32, 55, 2, 27, 56, 11, 37, 46, 9, 20, 51, 18, 25, 48, 18, 39, 50, 5, 36, 42, 3]\n"
     ]
    }
   ],
   "source": [
    "import random\n",
    "pool = []\n",
    "for i in range(20):\n",
    "    pool.extend([i] * min(10, 30 // 20 + 1))\n",
    "\n",
    "# Randomly shuffle the pool and return the first N elements\n",
    "random.shuffle(pool)\n",
    "idx =  pool[:(30*3)]\n",
    "print(idx)\n",
    "del_idx = [index+20*(i%3) for i,index in enumerate(idx)]\n",
    "print(del_idx)"
   ]
  },
  {
   "cell_type": "code",
   "execution_count": 1,
   "metadata": {},
   "outputs": [
    {
     "name": "stdout",
     "output_type": "stream",
     "text": [
      "[1, 0, 0, 3, 3, 3, 2, 3, 0, 0]\n"
     ]
    }
   ],
   "source": [
    "import random\n",
    "\n",
    "random_numbers = [random.randint(0, 3) for _ in range(10)]\n",
    "print(random_numbers)"
   ]
  }
 ],
 "metadata": {
  "kernelspec": {
   "display_name": "particle_hana",
   "language": "python",
   "name": "python3"
  },
  "language_info": {
   "codemirror_mode": {
    "name": "ipython",
    "version": 3
   },
   "file_extension": ".py",
   "mimetype": "text/x-python",
   "name": "python",
   "nbconvert_exporter": "python",
   "pygments_lexer": "ipython3",
   "version": "3.11.0"
  }
 },
 "nbformat": 4,
 "nbformat_minor": 2
}
